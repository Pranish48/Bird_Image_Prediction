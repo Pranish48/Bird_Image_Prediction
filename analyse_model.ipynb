{
 "cells": [
  {
   "cell_type": "markdown",
   "id": "d2b66c9f-6c8b-42ba-aa65-c6b2ab326e8c",
   "metadata": {},
   "source": [
    "## IMPORT LIBRARIES"
   ]
  },
  {
   "cell_type": "code",
   "execution_count": 1,
   "id": "19b8eb14-ca97-45a4-9cf3-ecad71521672",
   "metadata": {},
   "outputs": [],
   "source": [
    "import torch\n",
    "from torchvision import transforms,models\n",
    "import torch.nn as nn\n",
    "from PIL import Image\n",
    "import pandas as pd\n",
    "from sklearn.metrics import accuracy_score\n",
    "from tqdm import tqdm"
   ]
  },
  {
   "cell_type": "markdown",
   "id": "8f03e555-65da-4ea0-b152-3e6e9f7b4bdc",
   "metadata": {},
   "source": [
    "## Load the trained mode"
   ]
  },
  {
   "cell_type": "code",
   "execution_count": 2,
   "id": "7bf77390-da3b-4b99-a714-bcf718a6ca02",
   "metadata": {},
   "outputs": [],
   "source": [
    "device = torch.device(\"cuda\" if torch.cuda.is_available() else \"cpu\")\n",
    "MODEL_PATH = \"best_bird_model.pth\""
   ]
  },
  {
   "cell_type": "code",
   "execution_count": 3,
   "id": "32a2d947-fc5f-4496-a1cf-5ac2d6bb4151",
   "metadata": {},
   "outputs": [],
   "source": [
    "num_classes = 200\n",
    "model = models.resnet50(weights=None)\n",
    "model.fc = nn.Linear(model.fc.in_features, num_classes)"
   ]
  },
  {
   "cell_type": "code",
   "execution_count": 4,
   "id": "bd7ea57f-86f6-4384-b9b2-9a186aa5651c",
   "metadata": {},
   "outputs": [
    {
     "data": {
      "text/plain": [
       "<All keys matched successfully>"
      ]
     },
     "execution_count": 4,
     "metadata": {},
     "output_type": "execute_result"
    }
   ],
   "source": [
    "state_dict = torch.load(MODEL_PATH, map_location=device)\n",
    "model.load_state_dict(state_dict)"
   ]
  },
  {
   "cell_type": "code",
   "execution_count": 5,
   "id": "64b2d557-1454-464c-ab3d-b09234389950",
   "metadata": {},
   "outputs": [
    {
     "name": "stdout",
     "output_type": "stream",
     "text": [
      "ResNet50 model loaded successfully on cuda!\n"
     ]
    }
   ],
   "source": [
    "model.to(device)\n",
    "model.eval()\n",
    "\n",
    "print(f\"ResNet50 model loaded successfully on {device}!\")"
   ]
  },
  {
   "cell_type": "markdown",
   "id": "30e1b654-5a5b-4a43-87f1-ed9ca36a91f5",
   "metadata": {},
   "source": [
    "## Define Test Transform"
   ]
  },
  {
   "cell_type": "code",
   "execution_count": 12,
   "id": "7c9d4cc9-9ef2-4cc5-917d-7e8fcb3e85ae",
   "metadata": {},
   "outputs": [],
   "source": [
    "test_transform = transforms.Compose([\n",
    "    transforms.Resize((224, 224)),\n",
    "    transforms.ToTensor(),\n",
    "    transforms.Normalize([0.485, 0.456, 0.406],\n",
    "                         [0.229, 0.224, 0.225])\n",
    "])"
   ]
  },
  {
   "cell_type": "markdown",
   "id": "4de69b0d-915a-4557-88ad-8ff006c234c0",
   "metadata": {},
   "source": [
    "## Load Classes"
   ]
  },
  {
   "cell_type": "code",
   "execution_count": 6,
   "id": "2cb0c053-805f-4c14-b6b6-6464ba50f630",
   "metadata": {},
   "outputs": [],
   "source": [
    "df = pd.read_csv(\"bird_metadata.csv\")"
   ]
  },
  {
   "cell_type": "code",
   "execution_count": 7,
   "id": "3cbc90ca-35d0-43f7-8be9-468ddc02c22f",
   "metadata": {},
   "outputs": [
    {
     "data": {
      "text/html": [
       "<div>\n",
       "<style scoped>\n",
       "    .dataframe tbody tr th:only-of-type {\n",
       "        vertical-align: middle;\n",
       "    }\n",
       "\n",
       "    .dataframe tbody tr th {\n",
       "        vertical-align: top;\n",
       "    }\n",
       "\n",
       "    .dataframe thead th {\n",
       "        text-align: right;\n",
       "    }\n",
       "</style>\n",
       "<table border=\"1\" class=\"dataframe\">\n",
       "  <thead>\n",
       "    <tr style=\"text-align: right;\">\n",
       "      <th></th>\n",
       "      <th>image_id</th>\n",
       "      <th>file_path</th>\n",
       "      <th>class_id</th>\n",
       "      <th>class_name</th>\n",
       "      <th>is_train</th>\n",
       "      <th>full_path</th>\n",
       "      <th>set</th>\n",
       "    </tr>\n",
       "  </thead>\n",
       "  <tbody>\n",
       "    <tr>\n",
       "      <th>0</th>\n",
       "      <td>1</td>\n",
       "      <td>001.Black_footed_Albatross/Black_Footed_Albatr...</td>\n",
       "      <td>1</td>\n",
       "      <td>001.Black_footed_Albatross</td>\n",
       "      <td>0</td>\n",
       "      <td>Image_Raw/images/001.Black_footed_Albatross/Bl...</td>\n",
       "      <td>test</td>\n",
       "    </tr>\n",
       "    <tr>\n",
       "      <th>1</th>\n",
       "      <td>2</td>\n",
       "      <td>001.Black_footed_Albatross/Black_Footed_Albatr...</td>\n",
       "      <td>1</td>\n",
       "      <td>001.Black_footed_Albatross</td>\n",
       "      <td>1</td>\n",
       "      <td>Image_Raw/images/001.Black_footed_Albatross/Bl...</td>\n",
       "      <td>train</td>\n",
       "    </tr>\n",
       "    <tr>\n",
       "      <th>2</th>\n",
       "      <td>3</td>\n",
       "      <td>001.Black_footed_Albatross/Black_Footed_Albatr...</td>\n",
       "      <td>1</td>\n",
       "      <td>001.Black_footed_Albatross</td>\n",
       "      <td>0</td>\n",
       "      <td>Image_Raw/images/001.Black_footed_Albatross/Bl...</td>\n",
       "      <td>test</td>\n",
       "    </tr>\n",
       "    <tr>\n",
       "      <th>3</th>\n",
       "      <td>4</td>\n",
       "      <td>001.Black_footed_Albatross/Black_Footed_Albatr...</td>\n",
       "      <td>1</td>\n",
       "      <td>001.Black_footed_Albatross</td>\n",
       "      <td>1</td>\n",
       "      <td>Image_Raw/images/001.Black_footed_Albatross/Bl...</td>\n",
       "      <td>train</td>\n",
       "    </tr>\n",
       "    <tr>\n",
       "      <th>4</th>\n",
       "      <td>5</td>\n",
       "      <td>001.Black_footed_Albatross/Black_Footed_Albatr...</td>\n",
       "      <td>1</td>\n",
       "      <td>001.Black_footed_Albatross</td>\n",
       "      <td>1</td>\n",
       "      <td>Image_Raw/images/001.Black_footed_Albatross/Bl...</td>\n",
       "      <td>train</td>\n",
       "    </tr>\n",
       "  </tbody>\n",
       "</table>\n",
       "</div>"
      ],
      "text/plain": [
       "   image_id                                          file_path  class_id  \\\n",
       "0         1  001.Black_footed_Albatross/Black_Footed_Albatr...         1   \n",
       "1         2  001.Black_footed_Albatross/Black_Footed_Albatr...         1   \n",
       "2         3  001.Black_footed_Albatross/Black_Footed_Albatr...         1   \n",
       "3         4  001.Black_footed_Albatross/Black_Footed_Albatr...         1   \n",
       "4         5  001.Black_footed_Albatross/Black_Footed_Albatr...         1   \n",
       "\n",
       "                   class_name  is_train  \\\n",
       "0  001.Black_footed_Albatross         0   \n",
       "1  001.Black_footed_Albatross         1   \n",
       "2  001.Black_footed_Albatross         0   \n",
       "3  001.Black_footed_Albatross         1   \n",
       "4  001.Black_footed_Albatross         1   \n",
       "\n",
       "                                           full_path    set  \n",
       "0  Image_Raw/images/001.Black_footed_Albatross/Bl...   test  \n",
       "1  Image_Raw/images/001.Black_footed_Albatross/Bl...  train  \n",
       "2  Image_Raw/images/001.Black_footed_Albatross/Bl...   test  \n",
       "3  Image_Raw/images/001.Black_footed_Albatross/Bl...  train  \n",
       "4  Image_Raw/images/001.Black_footed_Albatross/Bl...  train  "
      ]
     },
     "execution_count": 7,
     "metadata": {},
     "output_type": "execute_result"
    }
   ],
   "source": [
    "df.head()"
   ]
  },
  {
   "cell_type": "code",
   "execution_count": 8,
   "id": "5dbd2c97-4240-4766-80e9-e53e03edc5f5",
   "metadata": {},
   "outputs": [],
   "source": [
    "test_df = df[df[\"set\"] == \"test\"].reset_index(drop=True)"
   ]
  },
  {
   "cell_type": "code",
   "execution_count": 9,
   "id": "5d413915-f37e-4ff2-93ce-8ca7545e074c",
   "metadata": {},
   "outputs": [
    {
     "data": {
      "text/html": [
       "<div>\n",
       "<style scoped>\n",
       "    .dataframe tbody tr th:only-of-type {\n",
       "        vertical-align: middle;\n",
       "    }\n",
       "\n",
       "    .dataframe tbody tr th {\n",
       "        vertical-align: top;\n",
       "    }\n",
       "\n",
       "    .dataframe thead th {\n",
       "        text-align: right;\n",
       "    }\n",
       "</style>\n",
       "<table border=\"1\" class=\"dataframe\">\n",
       "  <thead>\n",
       "    <tr style=\"text-align: right;\">\n",
       "      <th></th>\n",
       "      <th>image_id</th>\n",
       "      <th>file_path</th>\n",
       "      <th>class_id</th>\n",
       "      <th>class_name</th>\n",
       "      <th>is_train</th>\n",
       "      <th>full_path</th>\n",
       "      <th>set</th>\n",
       "    </tr>\n",
       "  </thead>\n",
       "  <tbody>\n",
       "    <tr>\n",
       "      <th>0</th>\n",
       "      <td>1</td>\n",
       "      <td>001.Black_footed_Albatross/Black_Footed_Albatr...</td>\n",
       "      <td>1</td>\n",
       "      <td>001.Black_footed_Albatross</td>\n",
       "      <td>0</td>\n",
       "      <td>Image_Raw/images/001.Black_footed_Albatross/Bl...</td>\n",
       "      <td>test</td>\n",
       "    </tr>\n",
       "    <tr>\n",
       "      <th>1</th>\n",
       "      <td>3</td>\n",
       "      <td>001.Black_footed_Albatross/Black_Footed_Albatr...</td>\n",
       "      <td>1</td>\n",
       "      <td>001.Black_footed_Albatross</td>\n",
       "      <td>0</td>\n",
       "      <td>Image_Raw/images/001.Black_footed_Albatross/Bl...</td>\n",
       "      <td>test</td>\n",
       "    </tr>\n",
       "    <tr>\n",
       "      <th>2</th>\n",
       "      <td>6</td>\n",
       "      <td>001.Black_footed_Albatross/Black_Footed_Albatr...</td>\n",
       "      <td>1</td>\n",
       "      <td>001.Black_footed_Albatross</td>\n",
       "      <td>0</td>\n",
       "      <td>Image_Raw/images/001.Black_footed_Albatross/Bl...</td>\n",
       "      <td>test</td>\n",
       "    </tr>\n",
       "    <tr>\n",
       "      <th>3</th>\n",
       "      <td>10</td>\n",
       "      <td>001.Black_footed_Albatross/Black_Footed_Albatr...</td>\n",
       "      <td>1</td>\n",
       "      <td>001.Black_footed_Albatross</td>\n",
       "      <td>0</td>\n",
       "      <td>Image_Raw/images/001.Black_footed_Albatross/Bl...</td>\n",
       "      <td>test</td>\n",
       "    </tr>\n",
       "    <tr>\n",
       "      <th>4</th>\n",
       "      <td>12</td>\n",
       "      <td>001.Black_footed_Albatross/Black_Footed_Albatr...</td>\n",
       "      <td>1</td>\n",
       "      <td>001.Black_footed_Albatross</td>\n",
       "      <td>0</td>\n",
       "      <td>Image_Raw/images/001.Black_footed_Albatross/Bl...</td>\n",
       "      <td>test</td>\n",
       "    </tr>\n",
       "  </tbody>\n",
       "</table>\n",
       "</div>"
      ],
      "text/plain": [
       "   image_id                                          file_path  class_id  \\\n",
       "0         1  001.Black_footed_Albatross/Black_Footed_Albatr...         1   \n",
       "1         3  001.Black_footed_Albatross/Black_Footed_Albatr...         1   \n",
       "2         6  001.Black_footed_Albatross/Black_Footed_Albatr...         1   \n",
       "3        10  001.Black_footed_Albatross/Black_Footed_Albatr...         1   \n",
       "4        12  001.Black_footed_Albatross/Black_Footed_Albatr...         1   \n",
       "\n",
       "                   class_name  is_train  \\\n",
       "0  001.Black_footed_Albatross         0   \n",
       "1  001.Black_footed_Albatross         0   \n",
       "2  001.Black_footed_Albatross         0   \n",
       "3  001.Black_footed_Albatross         0   \n",
       "4  001.Black_footed_Albatross         0   \n",
       "\n",
       "                                           full_path   set  \n",
       "0  Image_Raw/images/001.Black_footed_Albatross/Bl...  test  \n",
       "1  Image_Raw/images/001.Black_footed_Albatross/Bl...  test  \n",
       "2  Image_Raw/images/001.Black_footed_Albatross/Bl...  test  \n",
       "3  Image_Raw/images/001.Black_footed_Albatross/Bl...  test  \n",
       "4  Image_Raw/images/001.Black_footed_Albatross/Bl...  test  "
      ]
     },
     "execution_count": 9,
     "metadata": {},
     "output_type": "execute_result"
    }
   ],
   "source": [
    "test_df.head()"
   ]
  },
  {
   "cell_type": "markdown",
   "id": "aa01f8b8-7a3f-4e72-bd28-587637551c17",
   "metadata": {},
   "source": [
    "## Prediction function for a single image"
   ]
  },
  {
   "cell_type": "code",
   "execution_count": 10,
   "id": "49327fcf-42e1-4dce-8c5e-3104eb6d1971",
   "metadata": {},
   "outputs": [],
   "source": [
    "def predict_image(image_path, model, transform):\n",
    "    image = Image.open(image_path).convert(\"RGB\")\n",
    "    x = transform(image).unsqueeze(0).to(next(model.parameters()).device)  # add batch dim\n",
    "    with torch.no_grad():\n",
    "        outputs = model(x)\n",
    "        _, predicted_idx = torch.max(outputs, 1)\n",
    "        predicted_idx = predicted_idx.item()\n",
    "    return predicted_idx"
   ]
  },
  {
   "cell_type": "markdown",
   "id": "a3479f74-0538-473d-80af-e07722be8709",
   "metadata": {},
   "source": [
    "## Predict for the full test set and map to species name"
   ]
  },
  {
   "cell_type": "code",
   "execution_count": 13,
   "id": "315797d5-7b78-4a29-9301-4825b8efd4e5",
   "metadata": {},
   "outputs": [
    {
     "name": "stderr",
     "output_type": "stream",
     "text": [
      "Predicting: 100%|███████████████████████████████████████████████████████████████████████████████████████████████████████| 5794/5794 [01:06<00:00, 86.82it/s]\n"
     ]
    },
    {
     "name": "stdout",
     "output_type": "stream",
     "text": [
      "Predictions complete for full test set.\n"
     ]
    }
   ],
   "source": [
    "y_true, y_pred = [], []\n",
    "\n",
    "for _, row in tqdm(test_df.iterrows(), total=len(test_df), desc=\"Predicting\"):\n",
    "    path = row[\"full_path\"]          \n",
    "    true_class_idx = row[\"class_id\"] - 1  \n",
    "    pred_class_idx = predict_image(path, model, test_transform)\n",
    "    \n",
    "    y_true.append(true_class_idx)\n",
    "    y_pred.append(pred_class_idx)\n",
    "\n",
    "pred_names = [test_df[test_df['class_id'] == (idx+1)]['class_name'].values[0] for idx in y_pred]\n",
    "\n",
    "print(\"Predictions complete for full test set.\")\n"
   ]
  },
  {
   "cell_type": "markdown",
   "id": "6590b176-40c6-4d36-bc19-d86357e518eb",
   "metadata": {},
   "source": [
    "## Reports"
   ]
  },
  {
   "cell_type": "code",
   "execution_count": 14,
   "id": "b5b8f5b9-2362-487d-8c57-febe8a431347",
   "metadata": {},
   "outputs": [],
   "source": [
    "accuracy = accuracy_score(y_true, y_pred)"
   ]
  },
  {
   "cell_type": "code",
   "execution_count": 15,
   "id": "7f4eac05-f730-4fe0-8436-48a3c27aedf4",
   "metadata": {},
   "outputs": [
    {
     "data": {
      "text/plain": [
       "0.7647566448049706"
      ]
     },
     "execution_count": 15,
     "metadata": {},
     "output_type": "execute_result"
    }
   ],
   "source": [
    "accuracy"
   ]
  }
 ],
 "metadata": {
  "kernelspec": {
   "display_name": "Python 3 (ipykernel)",
   "language": "python",
   "name": "python3"
  },
  "language_info": {
   "codemirror_mode": {
    "name": "ipython",
    "version": 3
   },
   "file_extension": ".py",
   "mimetype": "text/x-python",
   "name": "python",
   "nbconvert_exporter": "python",
   "pygments_lexer": "ipython3",
   "version": "3.13.5"
  }
 },
 "nbformat": 4,
 "nbformat_minor": 5
}
